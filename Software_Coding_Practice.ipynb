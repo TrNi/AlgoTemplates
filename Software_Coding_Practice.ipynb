{
  "nbformat": 4,
  "nbformat_minor": 0,
  "metadata": {
    "colab": {
      "provenance": [],
      "authorship_tag": "ABX9TyP1B14skalz8ILj+EUU9utX",
      "include_colab_link": true
    },
    "kernelspec": {
      "name": "python3",
      "display_name": "Python 3"
    },
    "language_info": {
      "name": "python"
    }
  },
  "cells": [
    {
      "cell_type": "markdown",
      "metadata": {
        "id": "view-in-github",
        "colab_type": "text"
      },
      "source": [
        "<a href=\"https://colab.research.google.com/github/TrNi/AlgoTemplates/blob/main/Software_Coding_Practice.ipynb\" target=\"_parent\"><img src=\"https://colab.research.google.com/assets/colab-badge.svg\" alt=\"Open In Colab\"/></a>"
      ]
    },
    {
      "cell_type": "markdown",
      "source": [
        "### Sliding Window"
      ],
      "metadata": {
        "id": "-rpOgReJQJU5"
      }
    },
    {
      "cell_type": "code",
      "execution_count": null,
      "metadata": {
        "id": "JjNwsQFyQDZG"
      },
      "outputs": [],
      "source": [
        "# Template: when window shrinks:\n",
        "\n",
        "def slidingwin(iplist):\n",
        "  ans,j=0\n",
        "  state = initialstate\n",
        "  for i in range(len(iplist)):\n",
        "    # use iplist[i] to update state.\n",
        "    # sometimes state may become invalid.\n",
        "    while stateisinvalid():\n",
        "      # use iplist[j] to updtae state, keep incrementing j\n",
        "      # j+=1\n",
        "    ans = max(ans, i-j+1)\n",
        "  return ans"
      ]
    },
    {
      "cell_type": "markdown",
      "source": [
        "Solve problems:\n",
        "1. https://leetcode.com/problems/longest-substring-without-repeating-characters/\n",
        "2. https://www.lintcode.com/problem/386/\n",
        "\n",
        "Tricks:\n",
        "* use python ```collections.defaultdict(int)``` data structure for the state in above template.\n",
        "* use a counter for the 'at most K distinct characters' problem. Update counter upon first occurrence of any character."
      ],
      "metadata": {
        "id": "zl6YC4u_R5F4"
      }
    },
    {
      "cell_type": "markdown",
      "source": [
        "###Binary Search:\n",
        "When input array is given sorted or you are asked for better than linear or $O(log_2N)$ approach, the problem could belong to binary search. ```Each time, halve the sorted list, and compare the middle element with target.```\n",
        "\n",
        "**If an array could be halved $t$ times, then $2^t$ = array length.($t$ times doubling an array of length 1 will yield full array length).**\n",
        "\n",
        "$\\therefore 2^t = N, \\implies t=log_2(N)$\n",
        "Since worst case we need to halve the array t times, time complexity of this algo is $log_2(N)$.\n",
        "\n",
        "Template: Left and right index pointers. If target exists, return its index in the list. Otherwise, return the index where target can be placed."
      ],
      "metadata": {
        "id": "5L_E5IgjJ7Qe"
      }
    },
    {
      "cell_type": "code",
      "source": [
        "# Template: binary search.\n",
        "# Left and right index pointers.\n",
        "# If target exists, return its index in the list. Otherwise, return the index where target can be placed.\n",
        "\n",
        "def binarysearch(iplist,target):\n",
        "  l=0\n",
        "  r=len(iplist)-1\n",
        "  while l<r:\n",
        "    m = middle_index\n",
        "    if iplist[m]<target:\n",
        "      l = m+1\n",
        "    else:\n",
        "      r = m\n",
        "  return l"
      ],
      "metadata": {
        "id": "qBmhT0jeROvv"
      },
      "execution_count": null,
      "outputs": []
    },
    {
      "cell_type": "markdown",
      "source": [
        "Solve two problems:\n",
        "1. https://leetcode.com/problems/binary-search/submissions/1185949302/\n",
        "2. https://www.lintcode.com/problem/62/"
      ],
      "metadata": {
        "id": "nl6dafIHRVwA"
      }
    },
    {
      "cell_type": "markdown",
      "source": [
        "Tricks:\n",
        "* Rotated search array: if a sorted array is rotated, first conduct a binary search to find the pivot point / lowest point.\n",
        "* See that two sides of the pivot point are sorted sub-arrays.  "
      ],
      "metadata": {
        "id": "6Kkg8l7Pj4Ib"
      }
    },
    {
      "cell_type": "code",
      "source": [],
      "metadata": {
        "id": "aYx9ax6KkYt3"
      },
      "execution_count": null,
      "outputs": []
    }
  ]
}